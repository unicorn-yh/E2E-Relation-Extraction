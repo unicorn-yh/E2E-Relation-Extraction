{
 "cells": [
  {
   "cell_type": "code",
   "execution_count": 15,
   "metadata": {},
   "outputs": [],
   "source": [
    "import numpy as np\n",
    "import matplotlib.pyplot as plt\n",
    "loss_ls = [4.31, 3.64, 3.42, 3.24, 3.17, 3.02, 2.88, 2.86, 2.93, 2.80,\n",
    "           2.75, 2.73, 2.72, 2.66, 2.65, 2.58, 2.57, 2.55, 2.57, 2.56,\n",
    "           2.58, 2.49, 2.48, 2.40, 2.44, 2.51, 2.40, 2.45, 2.47, 2.40,\n",
    "           2.46, 2.39, 2.45, 2.36, 2.30, 2.40, 2.34, 2.34, 2.41, 2.32,\n",
    "           2.33, 2.38]\n",
    "plt.rcParams[\"figure.figsize\"] = [12, 6]\n",
    "plt.rcParams[\"figure.autolayout\"] = True\n",
    "plt.plot(loss_ls)\n",
    "plt.xlabel('Step (×1000)')\n",
    "plt.ylabel('Loss')\n",
    "x = np.array(range(1,len(loss_ls)))\n",
    "plt.xticks(x)\n",
    "plt.title(\"E2E NLG Loss\")\n",
    "plt.show()"
   ]
  }
 ],
 "metadata": {
  "kernelspec": {
   "display_name": "Python 3",
   "language": "python",
   "name": "python3"
  },
  "language_info": {
   "codemirror_mode": {
    "name": "ipython",
    "version": 3
   },
   "file_extension": ".py",
   "mimetype": "text/x-python",
   "name": "python",
   "nbconvert_exporter": "python",
   "pygments_lexer": "ipython3",
   "version": "3.7.7"
  },
  "orig_nbformat": 4
 },
 "nbformat": 4,
 "nbformat_minor": 2
}
